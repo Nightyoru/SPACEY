{
 "cells": [
  {
   "cell_type": "code",
   "execution_count": 5,
   "metadata": {},
   "outputs": [
    {
     "name": "stderr",
     "output_type": "stream",
     "text": [
      "'wget' 不是內部或外部命令、可執行的程式或批次檔。\n"
     ]
    }
   ],
   "source": [
    "!wget \"https://cf-courses-data.s3.us.cloud-object-storage.appdomain.cloud/IBM-DS0321EN-SkillsNetwork/datasets/spacex_launch_dash.csv\""
   ]
  },
  {
   "cell_type": "code",
   "execution_count": 6,
   "metadata": {},
   "outputs": [
    {
     "data": {
      "text/plain": [
       "('myfile.txt', <http.client.HTTPMessage at 0x22343ab4cc0>)"
      ]
     },
     "execution_count": 6,
     "metadata": {},
     "output_type": "execute_result"
    }
   ],
   "source": []
  },
  {
   "cell_type": "code",
   "execution_count": 106,
   "metadata": {},
   "outputs": [
    {
     "data": {
      "text/html": [
       "\n",
       "        <iframe\n",
       "            width=\"100%\"\n",
       "            height=\"650\"\n",
       "            src=\"http://127.0.0.1:8050/\"\n",
       "            frameborder=\"0\"\n",
       "            allowfullscreen\n",
       "        ></iframe>\n",
       "        "
      ],
      "text/plain": [
       "<IPython.lib.display.IFrame at 0x22345cc0e48>"
      ]
     },
     "metadata": {},
     "output_type": "display_data"
    }
   ],
   "source": [
    "# Import required libraries\n",
    "\n",
    "import pandas as pd\n",
    "import dash\n",
    "import dash_html_components as html\n",
    "import dash_core_components as dcc\n",
    "from dash.dependencies import Input, Output\n",
    "import plotly.express as px\n",
    "# Read the airline data into pandas dataframe\n",
    "url= \"https://cf-courses-data.s3.us.cloud-object-storage.appdomain.cloud/IBM-DS0321EN-SkillsNetwork/datasets/spacex_launch_dash.csv\"\n",
    "spacex_df = pd.read_csv(url)\n",
    "max_payload = spacex_df['Payload Mass (kg)'].max()\n",
    "min_payload = spacex_df['Payload Mass (kg)'].min()\n",
    "\n",
    "# Create a dash application\n",
    "app = dash.Dash(__name__)\n",
    "#create option\n",
    "option=[{'label': 'All Sites', 'value': 'ALL'},]\n",
    "for x in spacex_df['Launch Site'].unique():\n",
    "    option+=[{'label': str(x),'value':str(x)}]\n",
    "@app.callback(\n",
    "    Output('success-pie-chart', 'figure'),\n",
    "    Input('site-dropdown', 'value')\n",
    ")    \n",
    "#define piechart\n",
    "def get_pie_chart(entered_site):\n",
    "    if entered_site == 'ALL':\n",
    "        filtered_df = spacex_df\n",
    "        fig = px.pie(spacex_df, names='class', title='Success vs. Failure for All Sites')\n",
    "    else:\n",
    "        filtered_df = spacex_df[spacex_df['Launch Site'] == entered_site]\n",
    "        fig = px.pie(filtered_df, names='class', title=f'Success vs. Failure for {entered_site}')\n",
    "    return fig\n",
    "        #call back for scatter\n",
    "@app.callback(Output(component_id='success-payload-scatter-chart', component_property='figure'),\n",
    "               [Input(component_id='site-dropdown', component_property='value'), Input(component_id=\"payload-slider\", component_property=\"value\")])#\n",
    "def get_correlation(entered_site, slider_range):\n",
    "    low, high = slider_range\n",
    "    if entered_site == 'ALL':\n",
    "        filtered_df = spacex_df\n",
    "    else:\n",
    "        filtered_df = spacex_df[spacex_df['Launch Site'] == entered_site]\n",
    "    mask = (filtered_df['Payload Mass (kg)'] >= low) & (filtered_df['Payload Mass (kg)'] <= high)\n",
    "    fig = px.scatter(filtered_df[mask], x='Payload Mass (kg)', y='class', color=\"Booster Version Category\")\n",
    "    return fig\n",
    "#Create an app layout\n",
    "app.layout = html.Div(children=[html.H1('SpaceX Launch Records Dashboard',\n",
    "                                        style={'textAlign': 'center', 'color': '#503D36',\n",
    "                                               'font-size': 40}),\n",
    "                                # TASK 1: Add a dropdown list to enable Launch Site selection\n",
    "                                # The default select value is for ALL sites\n",
    "                                # dcc.Dropdown(id='site-dropdown',...)\n",
    "                                #optiona = [{ 'spacex': 'All Sites', 'spacex_df': 'ALL'}, {'Flight Number': spacex_df['Flight Number'].tolist(),'Launch Site': spacex_df['Launch Site'].tolist(),'class': spacex_df['class'].tolist(),'Payload Mass (kg)': spacex_df['Payload Mass (kg)'].tolist(), 'Booster Version': spacex_df['Booster Version'].tolist(),'Booster Version Category': spacex_df['Booster Version Category'].tolist()}] ]\n",
    "                                \n",
    "                                \n",
    "                                dcc.Dropdown(id='site-dropdown', \n",
    "                                             options=option,\n",
    "                                             value='ALL',\n",
    "                                             placeholder=\"place holder here\",\n",
    "                                             searchable=True),\n",
    "                                html.Br(), \n",
    "                                # TASK 2: Add a pie chart to show the total successful launches count for all sites\n",
    "                                # If a specific launch site was selected, show the Success vs. Failed counts for the site\n",
    "                                #@app.callback(Output(component_id='success-pie-chart', component_property='figure'),\n",
    "                                #  Input(component_id='site-dropdown', component_property='value'))\n",
    "                                dcc.Graph(id='success-pie-chart'),\n",
    "                                # TASK 3: Add a slider to select payload range\n",
    "                                #dcc.RangeSlider(id='payload-slider',...) \n",
    "                                html.Br(),\n",
    "                                dcc.RangeSlider(id='payload-slider',\n",
    "                                        min=min_payload, max=max_payload, step=1000,\n",
    "                                        marks={min_payload: str(min_payload),\n",
    "                                               max_payload: str(max_payload)},\n",
    "                                                value=[min_payload, max_payload]\n",
    "                                               ),\n",
    "\n",
    "\n",
    "                                html.P(\"Payload range (Kg):\"),\n",
    "                                \n",
    "                                \n",
    "\n",
    "                                # TASK 4: Add a scatter chart to show the correlation between payload and launch success\n",
    "                                \n",
    "                                \n",
    "                                html.Div(dcc.Graph(id='success-payload-scatter-chart')),\n",
    "                                ])\n",
    "\n",
    "# TASK 2:\n",
    "# Add a callback function for `site-dropdown` as input, `success-pie-chart` as output\n",
    "\n",
    "# TASK 4:\n",
    "# Add a callback function for `site-dropdown` and `payload-slider` as inputs, `success-payload-scatter-chart` as output\n",
    "\n",
    "\n",
    "# Run the app\n",
    "if __name__ == '__main__':\n",
    "    app.run_server()\n"
   ]
  },
  {
   "cell_type": "code",
   "execution_count": 43,
   "metadata": {},
   "outputs": [
    {
     "data": {
      "text/plain": [
       "[{'label': 'CCAFS LC-40', 'value': 'CCAFS LC-40'},\n",
       " {'label': 'VAFB SLC-4E', 'value': 'VAFB SLC-4E'},\n",
       " {'label': 'KSC LC-39A', 'value': 'KSC LC-39A'},\n",
       " {'label': 'CCAFS SLC-40', 'value': 'CCAFS SLC-40'}]"
      ]
     },
     "execution_count": 43,
     "metadata": {},
     "output_type": "execute_result"
    }
   ],
   "source": [
    "a = []\n",
    "for x in spacex_df['Launch Site'].unique():\n",
    "    a+=[{'label': str(x),'value':str(x)}]\n",
    "a"
   ]
  },
  {
   "cell_type": "code",
   "execution_count": null,
   "metadata": {},
   "outputs": [],
   "source": []
  },
  {
   "cell_type": "code",
   "execution_count": null,
   "metadata": {},
   "outputs": [],
   "source": []
  },
  {
   "cell_type": "code",
   "execution_count": null,
   "metadata": {},
   "outputs": [],
   "source": []
  }
 ],
 "metadata": {
  "kernelspec": {
   "display_name": "Python 3",
   "language": "python",
   "name": "python3"
  },
  "language_info": {
   "codemirror_mode": {
    "name": "ipython",
    "version": 3
   },
   "file_extension": ".py",
   "mimetype": "text/x-python",
   "name": "python",
   "nbconvert_exporter": "python",
   "pygments_lexer": "ipython3",
   "version": "3.6.5"
  }
 },
 "nbformat": 4,
 "nbformat_minor": 4
}
